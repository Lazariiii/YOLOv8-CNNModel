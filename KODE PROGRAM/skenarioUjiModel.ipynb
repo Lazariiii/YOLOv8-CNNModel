{
  "nbformat": 4,
  "nbformat_minor": 0,
  "metadata": {
    "colab": {
      "provenance": [],
      "gpuType": "T4"
    },
    "kernelspec": {
      "name": "python3",
      "display_name": "Python 3"
    },
    "language_info": {
      "name": "python"
    },
    "accelerator": "GPU"
  },
  "cells": [
    {
      "cell_type": "code",
      "execution_count": null,
      "metadata": {
        "id": "npBDlbjBoWAx",
        "colab": {
          "base_uri": "https://localhost:8080/"
        },
        "outputId": "9253e933-e8b7-4cae-a004-a372e33b1481"
      },
      "outputs": [
        {
          "output_type": "stream",
          "name": "stdout",
          "text": [
            "Mounted at /content/gdrive\n"
          ]
        }
      ],
      "source": [
        "from google.colab import drive\n",
        "drive.mount('/content/gdrive')"
      ]
    },
    {
      "cell_type": "code",
      "source": [
        "import os\n",
        "import cv2\n",
        "import numpy as np\n",
        "from google.colab.patches import cv2_imshow"
      ],
      "metadata": {
        "id": "5mWedPDkM_4O"
      },
      "execution_count": null,
      "outputs": []
    },
    {
      "cell_type": "code",
      "source": [
        "# Membuat gambar menjadi overexposure\n",
        "def overexposure_effect(input_image_path, output_image_path):\n",
        "    img = cv2.imread(input_image_path)\n",
        "    alpha = 1.5\n",
        "    result = cv2.convertScaleAbs(img, alpha=alpha, beta=0)\n",
        "    cv2.imwrite(output_image_path, result)\n",
        "\n",
        "input_folder_path = '/content/gdrive/MyDrive/TA/Data Uji Model/Motion Blur/images'\n",
        "output_folder_path = '/content/gdrive/MyDrive/TA/Data Uji Model/Over Exposured/images'\n",
        "\n",
        "os.makedirs(output_folder_path, exist_ok=True)\n",
        "input_files = os.listdir(input_folder_path)\n",
        "for input_file in input_files:\n",
        "    if input_file.endswith(('.jpg', '.jpeg', '.png')):\n",
        "        input_image_path = os.path.join(input_folder_path, input_file)\n",
        "        output_image_path = os.path.join(output_folder_path, input_file)\n",
        "        overexposure_effect(input_image_path, output_image_path)"
      ],
      "metadata": {
        "id": "wmh2-0sZoaje"
      },
      "execution_count": null,
      "outputs": []
    },
    {
      "cell_type": "code",
      "source": [
        "print('Citra Over Exposured: ',len(os.listdir('/content/gdrive/MyDrive/TA/Data Uji Model/Over Exposured/images')))"
      ],
      "metadata": {
        "id": "ejVSrBR_M3sp",
        "colab": {
          "base_uri": "https://localhost:8080/"
        },
        "outputId": "56afe8d6-569c-4731-d04d-a0c4f4bae9e0"
      },
      "execution_count": null,
      "outputs": [
        {
          "output_type": "stream",
          "name": "stdout",
          "text": [
            "Citra Over Exposured:  417\n"
          ]
        }
      ]
    },
    {
      "cell_type": "code",
      "source": [
        "# Membuat gambar menjadi underexposure\n",
        "import os\n",
        "import cv2\n",
        "import numpy as np\n",
        "from google.colab.patches import cv2_imshow\n",
        "\n",
        "def overexposure_effect(input_image_path, output_image_path):\n",
        "    img = cv2.imread(input_image_path)\n",
        "    alpha = 0.5\n",
        "    result = cv2.convertScaleAbs(img, alpha=alpha, beta=0)\n",
        "    cv2.imwrite(output_image_path, result)\n",
        "\n",
        "input_folder_path = '/content/gdrive/MyDrive/TA/Data Uji Model/Motion Blur/images'\n",
        "output_folder_path = '/content/gdrive/MyDrive/TA/Data Uji Model/Under Exposured/images'\n",
        "\n",
        "os.makedirs(output_folder_path, exist_ok=True)\n",
        "input_files = os.listdir(input_folder_path)\n",
        "for input_file in input_files:\n",
        "    if input_file.endswith(('.jpg', '.jpeg', '.png')):\n",
        "        input_image_path = os.path.join(input_folder_path, input_file)\n",
        "        output_image_path = os.path.join(output_folder_path, input_file)\n",
        "        overexposure_effect(input_image_path, output_image_path)"
      ],
      "metadata": {
        "id": "CcxxGGUapxpW"
      },
      "execution_count": null,
      "outputs": []
    },
    {
      "cell_type": "code",
      "source": [
        "print('Citra Under Exposured: ',len(os.listdir('/content/gdrive/MyDrive/TA/Data Uji Model/Under Exposured/images')))"
      ],
      "metadata": {
        "id": "bgVEu9P7NIQw",
        "colab": {
          "base_uri": "https://localhost:8080/"
        },
        "outputId": "a8716314-204e-477e-beea-8bd250001d2d"
      },
      "execution_count": null,
      "outputs": [
        {
          "output_type": "stream",
          "name": "stdout",
          "text": [
            "Citra Under Exposured:  417\n"
          ]
        }
      ]
    },
    {
      "cell_type": "code",
      "source": [
        "from google.colab import drive\n",
        "drive.mount('/content/gdrive')\n",
        "import cv2\n",
        "import os\n",
        "import numpy as np\n",
        "# Path ke folder data dengan citra-citra\n",
        "source_folder_path = \"/content/gdrive/MyDrive/TA/Data Uji Model/Blur/FullBlur/images\"\n",
        "# Path ke folder untuk citra hasil noise motion blur\n",
        "destination_folder_path = \"/content/gdrive/MyDrive/TA/Data Uji Model/Blur/HasilBlur\"\n",
        "# Parameter Motion Blur\n",
        "KERNEL_SIZE = 15\n",
        "# Fungsi untuk transformasi blur citra\n",
        "def add_motion_blur(source_file, destination_file, kernel_size):\n",
        "    image = cv2.imread(source_file)\n",
        "    # Membuat kernel motion blur\n",
        "    kernel_motion_blur = np.zeros((kernel_size, kernel_size))\n",
        "    kernel_motion_blur[int((kernel_size-1)/2), :] = np.ones(kernel_size)\n",
        "    kernel_motion_blur = kernel_motion_blur / kernel_size\n",
        "    # Melakukan konvolusi menggunakan kernel motion blur\n",
        "    image = cv2.filter2D(image, -1, kernel_motion_blur)\n",
        "    # Simpan citra hasil motion blur\n",
        "    cv2.imwrite(destination_file, image)\n",
        "# Loop through citra-citra dalam folder data\n",
        "for filename in os.listdir(source_folder_path):\n",
        "    if filename.endswith(\".jpg\") or filename.endswith(\".jpeg\") or filename.endswith(\".png\"):\n",
        "        source_file_path = os.path.join(source_folder_path, filename)\n",
        "        destination_file_path = os.path.join(destination_folder_path, filename)\n",
        "        # Terapkan motion blur pada citra dan simpan di folder tujuan\n",
        "        add_motion_blur(source_file_path, destination_file_path, KERNEL_SIZE)"
      ],
      "metadata": {
        "colab": {
          "base_uri": "https://localhost:8080/"
        },
        "id": "SNYVbRCnuLt-",
        "outputId": "bdbbf226-15c8-4712-98de-80c2d5cb6fb9"
      },
      "execution_count": null,
      "outputs": [
        {
          "output_type": "stream",
          "name": "stdout",
          "text": [
            "Drive already mounted at /content/gdrive; to attempt to forcibly remount, call drive.mount(\"/content/gdrive\", force_remount=True).\n"
          ]
        }
      ]
    },
    {
      "cell_type": "code",
      "source": [
        "print('Citra Blurred: ',len(os.listdir('/content/gdrive/MyDrive/TA/Data Uji Model/Blur/HasilBlur')))"
      ],
      "metadata": {
        "colab": {
          "base_uri": "https://localhost:8080/"
        },
        "id": "WARbrPCn3JmK",
        "outputId": "56707841-01b4-45f1-b043-699fcf90ff7e"
      },
      "execution_count": null,
      "outputs": [
        {
          "output_type": "stream",
          "name": "stdout",
          "text": [
            "Citra Blurred:  417\n"
          ]
        }
      ]
    }
  ]
}